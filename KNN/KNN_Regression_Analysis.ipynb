{
  "nbformat": 4,
  "nbformat_minor": 0,
  "metadata": {
    "colab": {
      "provenance": []
    },
    "kernelspec": {
      "name": "python3",
      "display_name": "Python 3"
    },
    "language_info": {
      "name": "python"
    }
  },
  "cells": [
    {
      "cell_type": "markdown",
      "source": [
        "# K-Nearest Neighbour Regression"
      ],
      "metadata": {
        "id": "hvgIRgcXtKJP"
      }
    },
    {
      "cell_type": "markdown",
      "source": [
        "### Danny Rachmadian Yusuf Satryatama"
      ],
      "metadata": {
        "id": "WlCm947KtSFL"
      }
    },
    {
      "cell_type": "markdown",
      "source": [
        "## Import Libaries and Load the Dataset"
      ],
      "metadata": {
        "id": "UYzjw72tsORD"
      }
    },
    {
      "cell_type": "code",
      "execution_count": 3,
      "metadata": {
        "id": "BBMnjVXfr7x2"
      },
      "outputs": [],
      "source": [
        "import pandas as pd\n",
        "import numpy as np\n",
        "import matplotlib.pyplot as plt\n",
        "import seaborn as sns\n",
        "from sklearn.model_selection import train_test_split, GridSearchCV\n",
        "from sklearn.preprocessing import StandardScaler\n",
        "from sklearn.neighbors import KNeighborsRegressor\n",
        "from sklearn.feature_selection import SelectKBest, f_regression\n",
        "from sklearn.metrics import mean_absolute_error, mean_squared_error, r2_score\n",
        "import warnings\n",
        "\n",
        "warnings.filterwarnings('ignore')"
      ]
    },
    {
      "cell_type": "code",
      "source": [
        "# Load the dataset\n",
        "df = pd.read_csv('Students_Social_Media_Addiction_Feature_Engineered.csv')"
      ],
      "metadata": {
        "id": "zNBLmWImsNEI"
      },
      "execution_count": 4,
      "outputs": []
    },
    {
      "cell_type": "markdown",
      "source": [
        "## Data Exploration"
      ],
      "metadata": {
        "id": "xrZW4EsBtHSJ"
      }
    },
    {
      "cell_type": "code",
      "source": [
        "# Display the first few rows of the dataframe\n",
        "print(\"Dataset Head:\")\n",
        "print(df.head())\n",
        "\n",
        "# Display dataset info\n",
        "print(\"\\nDataset Info:\")\n",
        "df.info()\n",
        "\n",
        "print(\"\\nNumber of Rows and Columns:\")\n",
        "print(f\"Number of Rows: {df.shape[0]}\")\n",
        "print(f\"Number of Columns: {df.shape[1]}\")"
      ],
      "metadata": {
        "colab": {
          "base_uri": "https://localhost:8080/"
        },
        "id": "ryIetXEZtZSE",
        "outputId": "f5b5ede2-02b1-4096-d8b0-176422d170c9"
      },
      "execution_count": 9,
      "outputs": [
        {
          "output_type": "stream",
          "name": "stdout",
          "text": [
            "Dataset Head:\n",
            "   Student_ID  Age  Gender Academic_Level     Country  Avg_Daily_Usage_Hours  \\\n",
            "0           1   19  Female  Undergraduate  Bangladesh                    5.2   \n",
            "1           2   22    Male       Graduate       India                    2.1   \n",
            "2           3   20  Female  Undergraduate         USA                    6.0   \n",
            "3           4   18    Male    High School          UK                    3.0   \n",
            "4           5   21    Male       Graduate      Canada                    4.5   \n",
            "\n",
            "  Most_Used_Platform Affects_Academic_Performance  Sleep_Hours_Per_Night  \\\n",
            "0          Instagram                          Yes                    6.5   \n",
            "1            Twitter                           No                    7.5   \n",
            "2             TikTok                          Yes                    5.0   \n",
            "3            YouTube                           No                    7.0   \n",
            "4           Facebook                          Yes                    6.0   \n",
            "\n",
            "   Mental_Health_Score  ... Academic_Level_Encoded  \\\n",
            "0                    6  ...                      2   \n",
            "1                    8  ...                      0   \n",
            "2                    5  ...                      2   \n",
            "3                    7  ...                      1   \n",
            "4                    6  ...                      0   \n",
            "\n",
            "   Relationship_Status_Encoded  SM_Impact_Score  Lifestyle_Balance  \\\n",
            "0                            1              5.2                1.3   \n",
            "1                            2              0.0                5.4   \n",
            "2                            0              6.0               -1.0   \n",
            "3                            2              0.0                4.0   \n",
            "4                            1              4.5                1.5   \n",
            "\n",
            "   Usage_Category_Medium  Usage_Category_High  Usage_Category_Very High  \\\n",
            "0                  False                 True                     False   \n",
            "1                   True                False                     False   \n",
            "2                  False                 True                     False   \n",
            "3                   True                False                     False   \n",
            "4                  False                 True                     False   \n",
            "\n",
            "   Mental_Health_Risk_Medium  Mental_Health_Risk_Low  \\\n",
            "0                       True                   False   \n",
            "1                      False                    True   \n",
            "2                       True                   False   \n",
            "3                      False                    True   \n",
            "4                       True                   False   \n",
            "\n",
            "   Mental_Health_Risk_Very Low  \n",
            "0                        False  \n",
            "1                        False  \n",
            "2                        False  \n",
            "3                        False  \n",
            "4                        False  \n",
            "\n",
            "[5 rows x 25 columns]\n",
            "\n",
            "Dataset Info:\n",
            "<class 'pandas.core.frame.DataFrame'>\n",
            "RangeIndex: 705 entries, 0 to 704\n",
            "Data columns (total 25 columns):\n",
            " #   Column                        Non-Null Count  Dtype  \n",
            "---  ------                        --------------  -----  \n",
            " 0   Student_ID                    705 non-null    int64  \n",
            " 1   Age                           705 non-null    int64  \n",
            " 2   Gender                        705 non-null    object \n",
            " 3   Academic_Level                705 non-null    object \n",
            " 4   Country                       705 non-null    object \n",
            " 5   Avg_Daily_Usage_Hours         705 non-null    float64\n",
            " 6   Most_Used_Platform            705 non-null    object \n",
            " 7   Affects_Academic_Performance  705 non-null    object \n",
            " 8   Sleep_Hours_Per_Night         705 non-null    float64\n",
            " 9   Mental_Health_Score           705 non-null    int64  \n",
            " 10  Relationship_Status           705 non-null    object \n",
            " 11  Conflicts_Over_Social_Media   705 non-null    int64  \n",
            " 12  Addicted_Score                705 non-null    int64  \n",
            " 13  Adequate_Sleep                705 non-null    int64  \n",
            " 14  Gender_Encoded                705 non-null    int64  \n",
            " 15  Academic_Level_Encoded        705 non-null    int64  \n",
            " 16  Relationship_Status_Encoded   705 non-null    int64  \n",
            " 17  SM_Impact_Score               705 non-null    float64\n",
            " 18  Lifestyle_Balance             705 non-null    float64\n",
            " 19  Usage_Category_Medium         705 non-null    bool   \n",
            " 20  Usage_Category_High           705 non-null    bool   \n",
            " 21  Usage_Category_Very High      705 non-null    bool   \n",
            " 22  Mental_Health_Risk_Medium     705 non-null    bool   \n",
            " 23  Mental_Health_Risk_Low        705 non-null    bool   \n",
            " 24  Mental_Health_Risk_Very Low   705 non-null    bool   \n",
            "dtypes: bool(6), float64(4), int64(9), object(6)\n",
            "memory usage: 108.9+ KB\n",
            "\n",
            "Number of Rows and Columns:\n",
            "Number of Rows: 705\n",
            "Number of Columns: 25\n"
          ]
        }
      ]
    },
    {
      "cell_type": "code",
      "source": [
        "# Statistical summary\n",
        "print(\"Statistical Summary\")\n",
        "print(\"=\"*50)\n",
        "df.describe()"
      ],
      "metadata": {
        "colab": {
          "base_uri": "https://localhost:8080/",
          "height": 355
        },
        "id": "KlamHBexwxgH",
        "outputId": "466d0997-6a88-4068-f387-6d60f07e6152"
      },
      "execution_count": 4,
      "outputs": [
        {
          "output_type": "stream",
          "name": "stdout",
          "text": [
            "Statistical Summary\n",
            "==================================================\n"
          ]
        },
        {
          "output_type": "execute_result",
          "data": {
            "text/plain": [
              "       Student_ID         Age  Avg_Daily_Usage_Hours  Sleep_Hours_Per_Night  \\\n",
              "count  705.000000  705.000000             705.000000             705.000000   \n",
              "mean   353.000000   20.659574               4.918723               6.868936   \n",
              "std    203.660256    1.399217               1.257395               1.126848   \n",
              "min      1.000000   18.000000               1.500000               3.800000   \n",
              "25%    177.000000   19.000000               4.100000               6.000000   \n",
              "50%    353.000000   21.000000               4.800000               6.900000   \n",
              "75%    529.000000   22.000000               5.800000               7.700000   \n",
              "max    705.000000   24.000000               8.500000               9.600000   \n",
              "\n",
              "       Mental_Health_Score  Conflicts_Over_Social_Media  Addicted_Score  \\\n",
              "count           705.000000                   705.000000      705.000000   \n",
              "mean              6.226950                     2.849645        6.436879   \n",
              "std               1.105055                     0.957968        1.587165   \n",
              "min               4.000000                     0.000000        2.000000   \n",
              "25%               5.000000                     2.000000        5.000000   \n",
              "50%               6.000000                     3.000000        7.000000   \n",
              "75%               7.000000                     4.000000        8.000000   \n",
              "max               9.000000                     5.000000        9.000000   \n",
              "\n",
              "       Adequate_Sleep  Gender_Encoded  Academic_Level_Encoded  \\\n",
              "count      705.000000      705.000000              705.000000   \n",
              "mean         0.472340        0.499291                1.039716   \n",
              "std          0.499589        0.500354                0.980555   \n",
              "min          0.000000        0.000000                0.000000   \n",
              "25%          0.000000        0.000000                0.000000   \n",
              "50%          0.000000        0.000000                2.000000   \n",
              "75%          1.000000        1.000000                2.000000   \n",
              "max          1.000000        1.000000                2.000000   \n",
              "\n",
              "       Relationship_Status_Encoded  SM_Impact_Score  Lifestyle_Balance  \n",
              "count                   705.000000       705.000000         705.000000  \n",
              "mean                      1.499291         3.558865           1.950213  \n",
              "std                       0.584178         2.781388           2.256362  \n",
              "min                       0.000000         0.000000          -4.700000  \n",
              "25%                       1.000000         0.000000           0.100000  \n",
              "50%                       2.000000         4.700000           2.200000  \n",
              "75%                       2.000000         5.800000           3.700000  \n",
              "max                       2.000000         8.500000           7.400000  "
            ],
            "text/html": [
              "\n",
              "  <div id=\"df-cb354921-4cae-43e5-bd48-3d9eca361ccc\" class=\"colab-df-container\">\n",
              "    <div>\n",
              "<style scoped>\n",
              "    .dataframe tbody tr th:only-of-type {\n",
              "        vertical-align: middle;\n",
              "    }\n",
              "\n",
              "    .dataframe tbody tr th {\n",
              "        vertical-align: top;\n",
              "    }\n",
              "\n",
              "    .dataframe thead th {\n",
              "        text-align: right;\n",
              "    }\n",
              "</style>\n",
              "<table border=\"1\" class=\"dataframe\">\n",
              "  <thead>\n",
              "    <tr style=\"text-align: right;\">\n",
              "      <th></th>\n",
              "      <th>Student_ID</th>\n",
              "      <th>Age</th>\n",
              "      <th>Avg_Daily_Usage_Hours</th>\n",
              "      <th>Sleep_Hours_Per_Night</th>\n",
              "      <th>Mental_Health_Score</th>\n",
              "      <th>Conflicts_Over_Social_Media</th>\n",
              "      <th>Addicted_Score</th>\n",
              "      <th>Adequate_Sleep</th>\n",
              "      <th>Gender_Encoded</th>\n",
              "      <th>Academic_Level_Encoded</th>\n",
              "      <th>Relationship_Status_Encoded</th>\n",
              "      <th>SM_Impact_Score</th>\n",
              "      <th>Lifestyle_Balance</th>\n",
              "    </tr>\n",
              "  </thead>\n",
              "  <tbody>\n",
              "    <tr>\n",
              "      <th>count</th>\n",
              "      <td>705.000000</td>\n",
              "      <td>705.000000</td>\n",
              "      <td>705.000000</td>\n",
              "      <td>705.000000</td>\n",
              "      <td>705.000000</td>\n",
              "      <td>705.000000</td>\n",
              "      <td>705.000000</td>\n",
              "      <td>705.000000</td>\n",
              "      <td>705.000000</td>\n",
              "      <td>705.000000</td>\n",
              "      <td>705.000000</td>\n",
              "      <td>705.000000</td>\n",
              "      <td>705.000000</td>\n",
              "    </tr>\n",
              "    <tr>\n",
              "      <th>mean</th>\n",
              "      <td>353.000000</td>\n",
              "      <td>20.659574</td>\n",
              "      <td>4.918723</td>\n",
              "      <td>6.868936</td>\n",
              "      <td>6.226950</td>\n",
              "      <td>2.849645</td>\n",
              "      <td>6.436879</td>\n",
              "      <td>0.472340</td>\n",
              "      <td>0.499291</td>\n",
              "      <td>1.039716</td>\n",
              "      <td>1.499291</td>\n",
              "      <td>3.558865</td>\n",
              "      <td>1.950213</td>\n",
              "    </tr>\n",
              "    <tr>\n",
              "      <th>std</th>\n",
              "      <td>203.660256</td>\n",
              "      <td>1.399217</td>\n",
              "      <td>1.257395</td>\n",
              "      <td>1.126848</td>\n",
              "      <td>1.105055</td>\n",
              "      <td>0.957968</td>\n",
              "      <td>1.587165</td>\n",
              "      <td>0.499589</td>\n",
              "      <td>0.500354</td>\n",
              "      <td>0.980555</td>\n",
              "      <td>0.584178</td>\n",
              "      <td>2.781388</td>\n",
              "      <td>2.256362</td>\n",
              "    </tr>\n",
              "    <tr>\n",
              "      <th>min</th>\n",
              "      <td>1.000000</td>\n",
              "      <td>18.000000</td>\n",
              "      <td>1.500000</td>\n",
              "      <td>3.800000</td>\n",
              "      <td>4.000000</td>\n",
              "      <td>0.000000</td>\n",
              "      <td>2.000000</td>\n",
              "      <td>0.000000</td>\n",
              "      <td>0.000000</td>\n",
              "      <td>0.000000</td>\n",
              "      <td>0.000000</td>\n",
              "      <td>0.000000</td>\n",
              "      <td>-4.700000</td>\n",
              "    </tr>\n",
              "    <tr>\n",
              "      <th>25%</th>\n",
              "      <td>177.000000</td>\n",
              "      <td>19.000000</td>\n",
              "      <td>4.100000</td>\n",
              "      <td>6.000000</td>\n",
              "      <td>5.000000</td>\n",
              "      <td>2.000000</td>\n",
              "      <td>5.000000</td>\n",
              "      <td>0.000000</td>\n",
              "      <td>0.000000</td>\n",
              "      <td>0.000000</td>\n",
              "      <td>1.000000</td>\n",
              "      <td>0.000000</td>\n",
              "      <td>0.100000</td>\n",
              "    </tr>\n",
              "    <tr>\n",
              "      <th>50%</th>\n",
              "      <td>353.000000</td>\n",
              "      <td>21.000000</td>\n",
              "      <td>4.800000</td>\n",
              "      <td>6.900000</td>\n",
              "      <td>6.000000</td>\n",
              "      <td>3.000000</td>\n",
              "      <td>7.000000</td>\n",
              "      <td>0.000000</td>\n",
              "      <td>0.000000</td>\n",
              "      <td>2.000000</td>\n",
              "      <td>2.000000</td>\n",
              "      <td>4.700000</td>\n",
              "      <td>2.200000</td>\n",
              "    </tr>\n",
              "    <tr>\n",
              "      <th>75%</th>\n",
              "      <td>529.000000</td>\n",
              "      <td>22.000000</td>\n",
              "      <td>5.800000</td>\n",
              "      <td>7.700000</td>\n",
              "      <td>7.000000</td>\n",
              "      <td>4.000000</td>\n",
              "      <td>8.000000</td>\n",
              "      <td>1.000000</td>\n",
              "      <td>1.000000</td>\n",
              "      <td>2.000000</td>\n",
              "      <td>2.000000</td>\n",
              "      <td>5.800000</td>\n",
              "      <td>3.700000</td>\n",
              "    </tr>\n",
              "    <tr>\n",
              "      <th>max</th>\n",
              "      <td>705.000000</td>\n",
              "      <td>24.000000</td>\n",
              "      <td>8.500000</td>\n",
              "      <td>9.600000</td>\n",
              "      <td>9.000000</td>\n",
              "      <td>5.000000</td>\n",
              "      <td>9.000000</td>\n",
              "      <td>1.000000</td>\n",
              "      <td>1.000000</td>\n",
              "      <td>2.000000</td>\n",
              "      <td>2.000000</td>\n",
              "      <td>8.500000</td>\n",
              "      <td>7.400000</td>\n",
              "    </tr>\n",
              "  </tbody>\n",
              "</table>\n",
              "</div>\n",
              "    <div class=\"colab-df-buttons\">\n",
              "\n",
              "  <div class=\"colab-df-container\">\n",
              "    <button class=\"colab-df-convert\" onclick=\"convertToInteractive('df-cb354921-4cae-43e5-bd48-3d9eca361ccc')\"\n",
              "            title=\"Convert this dataframe to an interactive table.\"\n",
              "            style=\"display:none;\">\n",
              "\n",
              "  <svg xmlns=\"http://www.w3.org/2000/svg\" height=\"24px\" viewBox=\"0 -960 960 960\">\n",
              "    <path d=\"M120-120v-720h720v720H120Zm60-500h600v-160H180v160Zm220 220h160v-160H400v160Zm0 220h160v-160H400v160ZM180-400h160v-160H180v160Zm440 0h160v-160H620v160ZM180-180h160v-160H180v160Zm440 0h160v-160H620v160Z\"/>\n",
              "  </svg>\n",
              "    </button>\n",
              "\n",
              "  <style>\n",
              "    .colab-df-container {\n",
              "      display:flex;\n",
              "      gap: 12px;\n",
              "    }\n",
              "\n",
              "    .colab-df-convert {\n",
              "      background-color: #E8F0FE;\n",
              "      border: none;\n",
              "      border-radius: 50%;\n",
              "      cursor: pointer;\n",
              "      display: none;\n",
              "      fill: #1967D2;\n",
              "      height: 32px;\n",
              "      padding: 0 0 0 0;\n",
              "      width: 32px;\n",
              "    }\n",
              "\n",
              "    .colab-df-convert:hover {\n",
              "      background-color: #E2EBFA;\n",
              "      box-shadow: 0px 1px 2px rgba(60, 64, 67, 0.3), 0px 1px 3px 1px rgba(60, 64, 67, 0.15);\n",
              "      fill: #174EA6;\n",
              "    }\n",
              "\n",
              "    .colab-df-buttons div {\n",
              "      margin-bottom: 4px;\n",
              "    }\n",
              "\n",
              "    [theme=dark] .colab-df-convert {\n",
              "      background-color: #3B4455;\n",
              "      fill: #D2E3FC;\n",
              "    }\n",
              "\n",
              "    [theme=dark] .colab-df-convert:hover {\n",
              "      background-color: #434B5C;\n",
              "      box-shadow: 0px 1px 3px 1px rgba(0, 0, 0, 0.15);\n",
              "      filter: drop-shadow(0px 1px 2px rgba(0, 0, 0, 0.3));\n",
              "      fill: #FFFFFF;\n",
              "    }\n",
              "  </style>\n",
              "\n",
              "    <script>\n",
              "      const buttonEl =\n",
              "        document.querySelector('#df-cb354921-4cae-43e5-bd48-3d9eca361ccc button.colab-df-convert');\n",
              "      buttonEl.style.display =\n",
              "        google.colab.kernel.accessAllowed ? 'block' : 'none';\n",
              "\n",
              "      async function convertToInteractive(key) {\n",
              "        const element = document.querySelector('#df-cb354921-4cae-43e5-bd48-3d9eca361ccc');\n",
              "        const dataTable =\n",
              "          await google.colab.kernel.invokeFunction('convertToInteractive',\n",
              "                                                    [key], {});\n",
              "        if (!dataTable) return;\n",
              "\n",
              "        const docLinkHtml = 'Like what you see? Visit the ' +\n",
              "          '<a target=\"_blank\" href=https://colab.research.google.com/notebooks/data_table.ipynb>data table notebook</a>'\n",
              "          + ' to learn more about interactive tables.';\n",
              "        element.innerHTML = '';\n",
              "        dataTable['output_type'] = 'display_data';\n",
              "        await google.colab.output.renderOutput(dataTable, element);\n",
              "        const docLink = document.createElement('div');\n",
              "        docLink.innerHTML = docLinkHtml;\n",
              "        element.appendChild(docLink);\n",
              "      }\n",
              "    </script>\n",
              "  </div>\n",
              "\n",
              "\n",
              "    <div id=\"df-ce3c7667-2d05-425a-929b-da010d8414af\">\n",
              "      <button class=\"colab-df-quickchart\" onclick=\"quickchart('df-ce3c7667-2d05-425a-929b-da010d8414af')\"\n",
              "                title=\"Suggest charts\"\n",
              "                style=\"display:none;\">\n",
              "\n",
              "<svg xmlns=\"http://www.w3.org/2000/svg\" height=\"24px\"viewBox=\"0 0 24 24\"\n",
              "     width=\"24px\">\n",
              "    <g>\n",
              "        <path d=\"M19 3H5c-1.1 0-2 .9-2 2v14c0 1.1.9 2 2 2h14c1.1 0 2-.9 2-2V5c0-1.1-.9-2-2-2zM9 17H7v-7h2v7zm4 0h-2V7h2v10zm4 0h-2v-4h2v4z\"/>\n",
              "    </g>\n",
              "</svg>\n",
              "      </button>\n",
              "\n",
              "<style>\n",
              "  .colab-df-quickchart {\n",
              "      --bg-color: #E8F0FE;\n",
              "      --fill-color: #1967D2;\n",
              "      --hover-bg-color: #E2EBFA;\n",
              "      --hover-fill-color: #174EA6;\n",
              "      --disabled-fill-color: #AAA;\n",
              "      --disabled-bg-color: #DDD;\n",
              "  }\n",
              "\n",
              "  [theme=dark] .colab-df-quickchart {\n",
              "      --bg-color: #3B4455;\n",
              "      --fill-color: #D2E3FC;\n",
              "      --hover-bg-color: #434B5C;\n",
              "      --hover-fill-color: #FFFFFF;\n",
              "      --disabled-bg-color: #3B4455;\n",
              "      --disabled-fill-color: #666;\n",
              "  }\n",
              "\n",
              "  .colab-df-quickchart {\n",
              "    background-color: var(--bg-color);\n",
              "    border: none;\n",
              "    border-radius: 50%;\n",
              "    cursor: pointer;\n",
              "    display: none;\n",
              "    fill: var(--fill-color);\n",
              "    height: 32px;\n",
              "    padding: 0;\n",
              "    width: 32px;\n",
              "  }\n",
              "\n",
              "  .colab-df-quickchart:hover {\n",
              "    background-color: var(--hover-bg-color);\n",
              "    box-shadow: 0 1px 2px rgba(60, 64, 67, 0.3), 0 1px 3px 1px rgba(60, 64, 67, 0.15);\n",
              "    fill: var(--button-hover-fill-color);\n",
              "  }\n",
              "\n",
              "  .colab-df-quickchart-complete:disabled,\n",
              "  .colab-df-quickchart-complete:disabled:hover {\n",
              "    background-color: var(--disabled-bg-color);\n",
              "    fill: var(--disabled-fill-color);\n",
              "    box-shadow: none;\n",
              "  }\n",
              "\n",
              "  .colab-df-spinner {\n",
              "    border: 2px solid var(--fill-color);\n",
              "    border-color: transparent;\n",
              "    border-bottom-color: var(--fill-color);\n",
              "    animation:\n",
              "      spin 1s steps(1) infinite;\n",
              "  }\n",
              "\n",
              "  @keyframes spin {\n",
              "    0% {\n",
              "      border-color: transparent;\n",
              "      border-bottom-color: var(--fill-color);\n",
              "      border-left-color: var(--fill-color);\n",
              "    }\n",
              "    20% {\n",
              "      border-color: transparent;\n",
              "      border-left-color: var(--fill-color);\n",
              "      border-top-color: var(--fill-color);\n",
              "    }\n",
              "    30% {\n",
              "      border-color: transparent;\n",
              "      border-left-color: var(--fill-color);\n",
              "      border-top-color: var(--fill-color);\n",
              "      border-right-color: var(--fill-color);\n",
              "    }\n",
              "    40% {\n",
              "      border-color: transparent;\n",
              "      border-right-color: var(--fill-color);\n",
              "      border-top-color: var(--fill-color);\n",
              "    }\n",
              "    60% {\n",
              "      border-color: transparent;\n",
              "      border-right-color: var(--fill-color);\n",
              "    }\n",
              "    80% {\n",
              "      border-color: transparent;\n",
              "      border-right-color: var(--fill-color);\n",
              "      border-bottom-color: var(--fill-color);\n",
              "    }\n",
              "    90% {\n",
              "      border-color: transparent;\n",
              "      border-bottom-color: var(--fill-color);\n",
              "    }\n",
              "  }\n",
              "</style>\n",
              "\n",
              "      <script>\n",
              "        async function quickchart(key) {\n",
              "          const quickchartButtonEl =\n",
              "            document.querySelector('#' + key + ' button');\n",
              "          quickchartButtonEl.disabled = true;  // To prevent multiple clicks.\n",
              "          quickchartButtonEl.classList.add('colab-df-spinner');\n",
              "          try {\n",
              "            const charts = await google.colab.kernel.invokeFunction(\n",
              "                'suggestCharts', [key], {});\n",
              "          } catch (error) {\n",
              "            console.error('Error during call to suggestCharts:', error);\n",
              "          }\n",
              "          quickchartButtonEl.classList.remove('colab-df-spinner');\n",
              "          quickchartButtonEl.classList.add('colab-df-quickchart-complete');\n",
              "        }\n",
              "        (() => {\n",
              "          let quickchartButtonEl =\n",
              "            document.querySelector('#df-ce3c7667-2d05-425a-929b-da010d8414af button');\n",
              "          quickchartButtonEl.style.display =\n",
              "            google.colab.kernel.accessAllowed ? 'block' : 'none';\n",
              "        })();\n",
              "      </script>\n",
              "    </div>\n",
              "\n",
              "    </div>\n",
              "  </div>\n"
            ],
            "application/vnd.google.colaboratory.intrinsic+json": {
              "type": "dataframe",
              "summary": "{\n  \"name\": \"df\",\n  \"rows\": 8,\n  \"fields\": [\n    {\n      \"column\": \"Student_ID\",\n      \"properties\": {\n        \"dtype\": \"number\",\n        \"std\": 253.7806875489316,\n        \"min\": 1.0,\n        \"max\": 705.0,\n        \"num_unique_values\": 6,\n        \"samples\": [\n          705.0,\n          353.0,\n          529.0\n        ],\n        \"semantic_type\": \"\",\n        \"description\": \"\"\n      }\n    },\n    {\n      \"column\": \"Age\",\n      \"properties\": {\n        \"dtype\": \"number\",\n        \"std\": 242.9895460341682,\n        \"min\": 1.399217451919569,\n        \"max\": 705.0,\n        \"num_unique_values\": 8,\n        \"samples\": [\n          20.659574468085108,\n          21.0,\n          705.0\n        ],\n        \"semantic_type\": \"\",\n        \"description\": \"\"\n      }\n    },\n    {\n      \"column\": \"Avg_Daily_Usage_Hours\",\n      \"properties\": {\n        \"dtype\": \"number\",\n        \"std\": 247.70649604040395,\n        \"min\": 1.2573945210731428,\n        \"max\": 705.0,\n        \"num_unique_values\": 8,\n        \"samples\": [\n          4.918723404255319,\n          4.8,\n          705.0\n        ],\n        \"semantic_type\": \"\",\n        \"description\": \"\"\n      }\n    },\n    {\n      \"column\": \"Sleep_Hours_Per_Night\",\n      \"properties\": {\n        \"dtype\": \"number\",\n        \"std\": 247.14732863700502,\n        \"min\": 1.126848041531804,\n        \"max\": 705.0,\n        \"num_unique_values\": 8,\n        \"samples\": [\n          6.868936170212766,\n          6.9,\n          705.0\n        ],\n        \"semantic_type\": \"\",\n        \"description\": \"\"\n      }\n    },\n    {\n      \"column\": \"Mental_Health_Score\",\n      \"properties\": {\n        \"dtype\": \"number\",\n        \"std\": 247.32979347807313,\n        \"min\": 1.1050554948415823,\n        \"max\": 705.0,\n        \"num_unique_values\": 8,\n        \"samples\": [\n          6.226950354609929,\n          6.0,\n          705.0\n        ],\n        \"semantic_type\": \"\",\n        \"description\": \"\"\n      }\n    },\n    {\n      \"column\": \"Conflicts_Over_Social_Media\",\n      \"properties\": {\n        \"dtype\": \"number\",\n        \"std\": 248.36082117759048,\n        \"min\": 0.0,\n        \"max\": 705.0,\n        \"num_unique_values\": 8,\n        \"samples\": [\n          2.849645390070922,\n          3.0,\n          705.0\n        ],\n        \"semantic_type\": \"\",\n        \"description\": \"\"\n      }\n    },\n    {\n      \"column\": \"Addicted_Score\",\n      \"properties\": {\n        \"dtype\": \"number\",\n        \"std\": 247.29839702134547,\n        \"min\": 1.5871649318688412,\n        \"max\": 705.0,\n        \"num_unique_values\": 8,\n        \"samples\": [\n          6.436879432624114,\n          7.0,\n          705.0\n        ],\n        \"semantic_type\": \"\",\n        \"description\": \"\"\n      }\n    },\n    {\n      \"column\": \"Adequate_Sleep\",\n      \"properties\": {\n        \"dtype\": \"number\",\n        \"std\": 249.1053824967645,\n        \"min\": 0.0,\n        \"max\": 705.0,\n        \"num_unique_values\": 5,\n        \"samples\": [\n          0.4723404255319149,\n          1.0,\n          0.4995888057742427\n        ],\n        \"semantic_type\": \"\",\n        \"description\": \"\"\n      }\n    },\n    {\n      \"column\": \"Gender_Encoded\",\n      \"properties\": {\n        \"dtype\": \"number\",\n        \"std\": 249.1039835760149,\n        \"min\": 0.0,\n        \"max\": 705.0,\n        \"num_unique_values\": 5,\n        \"samples\": [\n          0.49929078014184397,\n          1.0,\n          0.500354484269979\n        ],\n        \"semantic_type\": \"\",\n        \"description\": \"\"\n      }\n    },\n    {\n      \"column\": \"Academic_Level_Encoded\",\n      \"properties\": {\n        \"dtype\": \"number\",\n        \"std\": 248.85144852907368,\n        \"min\": 0.0,\n        \"max\": 705.0,\n        \"num_unique_values\": 5,\n        \"samples\": [\n          1.0397163120567376,\n          2.0,\n          0.9805552283122392\n        ],\n        \"semantic_type\": \"\",\n        \"description\": \"\"\n      }\n    },\n    {\n      \"column\": \"Relationship_Status_Encoded\",\n      \"properties\": {\n        \"dtype\": \"number\",\n        \"std\": 248.79744748469383,\n        \"min\": 0.0,\n        \"max\": 705.0,\n        \"num_unique_values\": 6,\n        \"samples\": [\n          705.0,\n          1.499290780141844,\n          2.0\n        ],\n        \"semantic_type\": \"\",\n        \"description\": \"\"\n      }\n    },\n    {\n      \"column\": \"SM_Impact_Score\",\n      \"properties\": {\n        \"dtype\": \"number\",\n        \"std\": 247.99158136321844,\n        \"min\": 0.0,\n        \"max\": 705.0,\n        \"num_unique_values\": 7,\n        \"samples\": [\n          705.0,\n          3.5588652482269505,\n          5.8\n        ],\n        \"semantic_type\": \"\",\n        \"description\": \"\"\n      }\n    },\n    {\n      \"column\": \"Lifestyle_Balance\",\n      \"properties\": {\n        \"dtype\": \"number\",\n        \"std\": 248.6263844417891,\n        \"min\": -4.7,\n        \"max\": 705.0,\n        \"num_unique_values\": 8,\n        \"samples\": [\n          1.9502127659574466,\n          2.1999999999999997,\n          705.0\n        ],\n        \"semantic_type\": \"\",\n        \"description\": \"\"\n      }\n    }\n  ]\n}"
            }
          },
          "metadata": {},
          "execution_count": 4
        }
      ]
    },
    {
      "cell_type": "markdown",
      "source": [
        "## Defining Features and Target"
      ],
      "metadata": {
        "id": "dpKGN3MfyNna"
      }
    },
    {
      "cell_type": "code",
      "source": [
        "# Target variable analysis\n",
        "target = 'Addicted_Score'\n",
        "print(f\"\\nTarget variable '{target}' statistics:\")\n",
        "print(df[target].describe())\n",
        "\n",
        "plt.figure(figsize=(10, 6))\n",
        "sns.histplot(df[target], kde=True, bins=15)\n",
        "plt.title(f'Distribution of {target}')\n",
        "plt.xlabel(target)\n",
        "plt.ylabel('Frequency')\n",
        "plt.show()\n",
        "\n",
        "# Correlation analysis\n",
        "numeric_columns = df.select_dtypes(include=['float64', 'int64']).columns\n",
        "correlation = df[numeric_columns].corr()\n",
        "\n",
        "# Get top 10 features most correlated with target\n",
        "top_corr = df[numeric_columns].corr()['Addicted_Score'].abs().sort_values(ascending=False)[:10]\n",
        "print(\"\\nTop 10 features correlated with Addicted_Score:\")\n",
        "print(top_corr[:11])"
      ],
      "metadata": {
        "colab": {
          "base_uri": "https://localhost:8080/",
          "height": 981
        },
        "id": "DfVp0oe3zi2Z",
        "outputId": "d66b1d64-e47a-425c-a624-fafa0ac8fb5c"
      },
      "execution_count": 5,
      "outputs": [
        {
          "output_type": "stream",
          "name": "stdout",
          "text": [
            "\n",
            "Target variable 'Addicted_Score' statistics:\n",
            "count    705.000000\n",
            "mean       6.436879\n",
            "std        1.587165\n",
            "min        2.000000\n",
            "25%        5.000000\n",
            "50%        7.000000\n",
            "75%        8.000000\n",
            "max        9.000000\n",
            "Name: Addicted_Score, dtype: float64\n"
          ]
        },
        {
          "output_type": "display_data",
          "data": {
            "text/plain": [
              "<Figure size 1000x600 with 1 Axes>"
            ],
            "image/png": "[encoded data removed]"
          },
          "metadata": {}
        },
        {
          "output_type": "stream",
          "name": "stdout",
          "text": [
            "\n",
            "Top 10 features correlated with Addicted_Score:\n",
            "Addicted_Score                 1.000000\n",
            "Mental_Health_Score            0.945051\n",
            "Conflicts_Over_Social_Media    0.933586\n",
            "SM_Impact_Score                0.915776\n",
            "Lifestyle_Balance              0.845623\n",
            "Avg_Daily_Usage_Hours          0.832000\n",
            "Sleep_Hours_Per_Night          0.764858\n",
            "Adequate_Sleep                 0.690550\n",
            "Age                            0.166396\n",
            "Academic_Level_Encoded         0.075543\n",
            "Name: Addicted_Score, dtype: float64\n"
          ]
        }
      ]
    },
    {
      "cell_type": "code",
      "source": [
        "# Define X (features) by dropping all columns except target\n",
        "X = df.drop(['Addicted_Score'], axis=1)\n",
        "\n",
        "# Define y (target)\n",
        "y = df['Addicted_Score']\n",
        "\n",
        "print(\"Feature columns:\")\n",
        "print(X.columns.tolist())\n",
        "print(f\"\\nNumber of features: {X.shape[1]}\")\n",
        "print(f\"Number of samples: {X.shape[0]}\")"
      ],
      "metadata": {
        "id": "y_-UP0boyQqN",
        "colab": {
          "base_uri": "https://localhost:8080/"
        },
        "outputId": "dfa3bd6e-ec3b-488b-c18a-2e8b9d25dc85"
      },
      "execution_count": 6,
      "outputs": [
        {
          "output_type": "stream",
          "name": "stdout",
          "text": [
            "Feature columns:\n",
            "['Student_ID', 'Age', 'Gender', 'Academic_Level', 'Country', 'Avg_Daily_Usage_Hours', 'Most_Used_Platform', 'Affects_Academic_Performance', 'Sleep_Hours_Per_Night', 'Mental_Health_Score', 'Relationship_Status', 'Conflicts_Over_Social_Media', 'Adequate_Sleep', 'Gender_Encoded', 'Academic_Level_Encoded', 'Relationship_Status_Encoded', 'SM_Impact_Score', 'Lifestyle_Balance', 'Usage_Category_Medium', 'Usage_Category_High', 'Usage_Category_Very High', 'Mental_Health_Risk_Medium', 'Mental_Health_Risk_Low', 'Mental_Health_Risk_Very Low']\n",
            "\n",
            "Number of features: 24\n",
            "Number of samples: 705\n"
          ]
        }
      ]
    },
    {
      "cell_type": "code",
      "source": [
        "print(f\"\\nFull data shape: {X.shape}\")\n",
        "\n",
        "numerical_features = X.select_dtypes(include=np.number).columns.tolist()\n",
        "categorical_features = X.select_dtypes(include='object').columns.tolist()\n",
        "\n",
        "print(f\"Numerical features: {numerical_features}\")\n",
        "print(f\"Categorical features: {categorical_features}\")"
      ],
      "metadata": {
        "id": "ogaBrXQ7zC_X",
        "colab": {
          "base_uri": "https://localhost:8080/"
        },
        "outputId": "b5a5408d-5d7f-42f1-d9c1-1e24876e9e61"
      },
      "execution_count": 7,
      "outputs": [
        {
          "output_type": "stream",
          "name": "stdout",
          "text": [
            "\n",
            "Full data shape: (705, 24)\n",
            "Numerical features: ['Student_ID', 'Age', 'Avg_Daily_Usage_Hours', 'Sleep_Hours_Per_Night', 'Mental_Health_Score', 'Conflicts_Over_Social_Media', 'Adequate_Sleep', 'Gender_Encoded', 'Academic_Level_Encoded', 'Relationship_Status_Encoded', 'SM_Impact_Score', 'Lifestyle_Balance']\n",
            "Categorical features: ['Gender', 'Academic_Level', 'Country', 'Most_Used_Platform', 'Affects_Academic_Performance', 'Relationship_Status']\n"
          ]
        }
      ]
    },
    {
      "cell_type": "code",
      "source": [
        "# Select only numeric columns for modeling (exclude categorical string columns)\n",
        "# Keep the encoded versions instead of original categorical columns\n",
        "exclude_columns = ['Student_ID', 'Gender', 'Academic_Level', 'Country',\n",
        "                     'Most_Used_Platform', 'Affects_Academic_Performance', 'Relationship_Status']\n",
        "X = X.drop(columns=exclude_columns)\n",
        "\n",
        "print(\"Feature columns after removing categorical string columns:\")\n",
        "print(X.columns.tolist())\n",
        "print(f\"\\nNumber of features: {X.shape[1]}\")\n",
        "print(f\"Number of samples: {X.shape[0]}\")\n",
        "\n",
        "# Verify all columns are numeric\n",
        "print(f\"\\nData types of features:\")\n",
        "print(X.dtypes)\n",
        "\n",
        "# Split data\n",
        "X_train, X_test, y_train, y_test = train_test_split(X, y, test_size=0.2, random_state=42)\n",
        "print(f\"\\nTraining set shape: {X_train.shape}\")\n",
        "print(f\"Test set shape: {X_test.shape}\")"
      ],
      "metadata": {
        "colab": {
          "base_uri": "https://localhost:8080/"
        },
        "id": "BoK3X046NytA",
        "outputId": "9264cd20-6f0c-4773-918e-21539780551c"
      },
      "execution_count": 8,
      "outputs": [
        {
          "output_type": "stream",
          "name": "stdout",
          "text": [
            "Feature columns after removing categorical string columns:\n",
            "['Age', 'Avg_Daily_Usage_Hours', 'Sleep_Hours_Per_Night', 'Mental_Health_Score', 'Conflicts_Over_Social_Media', 'Adequate_Sleep', 'Gender_Encoded', 'Academic_Level_Encoded', 'Relationship_Status_Encoded', 'SM_Impact_Score', 'Lifestyle_Balance', 'Usage_Category_Medium', 'Usage_Category_High', 'Usage_Category_Very High', 'Mental_Health_Risk_Medium', 'Mental_Health_Risk_Low', 'Mental_Health_Risk_Very Low']\n",
            "\n",
            "Number of features: 17\n",
            "Number of samples: 705\n",
            "\n",
            "Data types of features:\n",
            "Age                              int64\n",
            "Avg_Daily_Usage_Hours          float64\n",
            "Sleep_Hours_Per_Night          float64\n",
            "Mental_Health_Score              int64\n",
            "Conflicts_Over_Social_Media      int64\n",
            "Adequate_Sleep                   int64\n",
            "Gender_Encoded                   int64\n",
            "Academic_Level_Encoded           int64\n",
            "Relationship_Status_Encoded      int64\n",
            "SM_Impact_Score                float64\n",
            "Lifestyle_Balance              float64\n",
            "Usage_Category_Medium             bool\n",
            "Usage_Category_High               bool\n",
            "Usage_Category_Very High          bool\n",
            "Mental_Health_Risk_Medium         bool\n",
            "Mental_Health_Risk_Low            bool\n",
            "Mental_Health_Risk_Very Low       bool\n",
            "dtype: object\n",
            "\n",
            "Training set shape: (564, 17)\n",
            "Test set shape: (141, 17)\n"
          ]
        }
      ]
    },
    {
      "cell_type": "code",
      "source": [
        "r2_scores = []\n",
        "k_range = range(1, 40)\n",
        "\n",
        "for i in k_range:\n",
        "    # Initialize and train the KNeighborsRegressor\n",
        "    knn_regressor = KNeighborsRegressor(n_neighbors=i)\n",
        "    knn_regressor.fit(X_train, y_train)\n",
        "\n",
        "    # Make predictions\n",
        "    pred_i = knn_regressor.predict(X_test)\n",
        "\n",
        "    # Calculate the R-squared score for the current K\n",
        "    r2_i = r2_score(y_test, pred_i)\n",
        "    r2_scores.append(r2_i) # Append R2 score\n",
        "\n",
        "# Create a plot to visualize the R2 Score vs. K Value\n",
        "plt.figure(figsize=(12, 6))\n",
        "# Plotting R2 Score vs K Value\n",
        "plt.plot(k_range, r2_scores, color='blue', linestyle='solid', marker='o',\n",
        "         markerfacecolor='red', markersize=10)\n",
        "plt.title('R-squared (R2) Score vs. K Value') # Updated title\n",
        "plt.xlabel('K Value')\n",
        "plt.ylabel('R-squared (R2) Score') # Updated label\n",
        "plt.grid(True)\n",
        "plt.show()\n",
        "\n",
        "# Find the K with the maximum R2 score (higher R2 is better)\n",
        "optimal_k_index = np.argmax(r2_scores) # Use argmax to find the index of the maximum value\n",
        "optimal_k_value = k_range[optimal_k_index]\n",
        "\n",
        "print(f\"\\nOptimal K value based on maximum R-squared score: {optimal_k_value}\")"
      ],
      "metadata": {
        "colab": {
          "base_uri": "https://localhost:8080/",
          "height": 545
        },
        "id": "uJrhzpILKK8r",
        "outputId": "f3a826df-56b9-448d-958b-f51fdb513cb1"
      },
      "execution_count": 33,
      "outputs": [
        {
          "output_type": "display_data",
          "data": {
            "text/plain": [
              "<Figure size 1200x600 with 1 Axes>"
            ],
            "image/png": "[encoded data removed]"
          },
          "metadata": {}
        },
        {
          "output_type": "stream",
          "name": "stdout",
          "text": [
            "\n",
            "Optimal K value based on maximum R-squared score: 4\n"
          ]
        }
      ]
    },
    {
      "cell_type": "markdown",
      "source": [
        "# Scenarios"
      ],
      "metadata": {
        "id": "XFfIWv1MtxH8"
      }
    },
    {
      "cell_type": "markdown",
      "source": [
        "## Scenario 1: Feature Selection\n",
        "\n",
        "1. Using all of the features (No Feature Selection)\n",
        "2. Using SelectKBest to select the top K best features\n"
      ],
      "metadata": {
        "id": "UILmso2mty1H"
      }
    },
    {
      "cell_type": "code",
      "source": [
        "print(\"Feature Selection Analysis\")\n",
        "print(\"=\" * 31)\n",
        "print(f\"Original number of features: {X_train.shape[1]}\")"
      ],
      "metadata": {
        "colab": {
          "base_uri": "https://localhost:8080/"
        },
        "id": "a3PVtk_wtw2x",
        "outputId": "3fc9ad74-cda0-45d7-d8c9-0e5083294388"
      },
      "execution_count": 10,
      "outputs": [
        {
          "output_type": "stream",
          "name": "stdout",
          "text": [
            "Feature Selection Analysis\n",
            "===============================\n",
            "Original number of features: 17\n"
          ]
        }
      ]
    },
    {
      "cell_type": "code",
      "source": [
        "print(\"\\nScenario 1.1: Using all features (No Feature Selection)\")\n",
        "print(\"=\" * 50)\n",
        "\n",
        "# Initialize and train the KNeighborsRegressor with the optimal k value\n",
        "# Use the processed training data\n",
        "knn_regressor_all_features = KNeighborsRegressor(n_neighbors=optimal_k_value)\n",
        "knn_regressor_all_features.fit(X_train, y_train)\n",
        "\n",
        "# Make predictions using the processed test data\n",
        "y_pred_all_features = knn_regressor_all_features.predict(X_test)\n",
        "\n",
        "# Evaluate the model\n",
        "mae_all_features = mean_absolute_error(y_test, y_pred_all_features)\n",
        "mse_all_features = mean_squared_error(y_test, y_pred_all_features)\n",
        "rmse_all_features = np.sqrt(mse_all_features)\n",
        "r2_all_features = r2_score(y_test, y_pred_all_features)\n",
        "\n",
        "print(f\"Mean Absolute Error (MAE) with all features: {mae_all_features:.4f}\")\n",
        "print(f\"Mean Squared Error (MSE) with all features: {mse_all_features:.4f}\")\n",
        "print(f\"Root Mean Squared Error (RMSE) with all features: {rmse_all_features:.4f}\")\n",
        "print(f\"R-squared (R2) Score with all features: {r2_all_features:.4f}\")"
      ],
      "metadata": {
        "colab": {
          "base_uri": "https://localhost:8080/"
        },
        "id": "y4oAfYqlKhtf",
        "outputId": "fb259a5f-d46b-40f8-ce7b-8601f83de49c"
      },
      "execution_count": 12,
      "outputs": [
        {
          "output_type": "stream",
          "name": "stdout",
          "text": [
            "\n",
            "Scenario 1.1: Using all features (No Feature Selection)\n",
            "==================================================\n",
            "Mean Absolute Error (MAE) with all features: 0.1525\n",
            "Mean Squared Error (MSE) with all features: 0.0949\n",
            "Root Mean Squared Error (RMSE) with all features: 0.3080\n",
            "R-squared (R2) Score with all features: 0.9621\n"
          ]
        }
      ]
    },
    {
      "cell_type": "code",
      "source": [
        "# 2. Using SelectKBest to select the top K best features\n",
        "print(\"\\nScenario 1.2: Using SelectKBest for Feature Selection\")\n",
        "print(\"=\" * 60)\n",
        "\n",
        "r2_scores_feature_selection = []\n",
        "# Define a range for the number of features to select\n",
        "num_features_range = range(1, X_train.shape[1] + 1)\n",
        "\n",
        "for num_features in num_features_range:\n",
        "    # Initialize SelectKBest with the current number of features\n",
        "    selector = SelectKBest(score_func=f_regression, k=num_features)\n",
        "\n",
        "    # Fit SelectKBest on the processed training data and transform both train/test\n",
        "    X_train_selected = selector.fit_transform(X_train, y_train)\n",
        "    X_test_selected = selector.transform(X_test)\n",
        "\n",
        "    # Initialize and train KNeighborsRegressor with the already found optimal k\n",
        "    knn_regressor = KNeighborsRegressor(n_neighbors=optimal_k_value)\n",
        "    knn_regressor.fit(X_train_selected, y_train)\n",
        "\n",
        "    # Make predictions on the feature-selected test data\n",
        "    y_pred = knn_regressor.predict(X_test_selected)\n",
        "\n",
        "    # Calculate R2 score\n",
        "    r2 = r2_score(y_test, y_pred)\n",
        "    r2_scores_feature_selection.append(r2)\n",
        "\n",
        "# Plot the R2 Score vs. Number of Features\n",
        "plt.figure(figsize=(12, 6))\n",
        "plt.plot(num_features_range, r2_scores_feature_selection, color='red', linestyle='solid', marker='o',\n",
        "         markerfacecolor='blue', markersize=6)\n",
        "plt.title('R-squared (R2) Score vs. Number of Selected Features')\n",
        "plt.xlabel('Number of Selected Features (SelectKBest)')\n",
        "plt.ylabel('R-squared (R2) Score')\n",
        "plt.grid(True)\n",
        "plt.show()\n",
        "\n",
        "# Find the number of features with the MAXIMUM R2 score\n",
        "optimal_num_features_index = np.argmax(r2_scores_feature_selection)\n",
        "optimal_num_features = num_features_range[optimal_num_features_index]\n",
        "\n",
        "# Updated print statement\n",
        "print(f\"\\nOptimal number of features based on maximum R-squared score: {optimal_num_features}\")\n",
        "\n",
        "# Use the optimal number of features found from the previous analysis\n",
        "num_features_to_select = optimal_num_features\n",
        "\n",
        "print(f\"Selecting top {num_features_to_select} features using SelectKBest.\")"
      ],
      "metadata": {
        "colab": {
          "base_uri": "https://localhost:8080/",
          "height": 614
        },
        "id": "4tcK3owOK1Jd",
        "outputId": "e51b5af3-c59d-4e43-cd3f-0d7c461dee7f"
      },
      "execution_count": 56,
      "outputs": [
        {
          "output_type": "stream",
          "name": "stdout",
          "text": [
            "\n",
            "Scenario 1.2: Using SelectKBest for Feature Selection\n",
            "============================================================\n"
          ]
        },
        {
          "output_type": "display_data",
          "data": {
            "text/plain": [
              "<Figure size 1200x600 with 1 Axes>"
            ],
            "image/png": "[encoded data removed]"
          },
          "metadata": {}
        },
        {
          "output_type": "stream",
          "name": "stdout",
          "text": [
            "\n",
            "Optimal number of features based on maximum R-squared score: 13\n",
            "Selecting top 13 features using SelectKBest.\n"
          ]
        }
      ]
    },
    {
      "cell_type": "code",
      "source": [
        "# Initialize SelectKBest\n",
        "selector = SelectKBest(score_func=f_regression, k=num_features_to_select)\n",
        "\n",
        "# Fit SelectKBest on the training data and transform both the training and test data\n",
        "X_train_selected = selector.fit_transform(X_train, y_train)\n",
        "X_test_selected = selector.transform(X_test)\n",
        "\n",
        "# Get the names of the selected features\n",
        "selected_feature_indices = selector.get_support(indices=True)\n",
        "selected_feature_names = X_train.columns[selected_feature_indices]\n",
        "\n",
        "print(\"\\nSelected feature names:\")\n",
        "print(selected_feature_names.tolist())\n",
        "\n",
        "print(f\"\\nTraining set shape after feature selection: {X_train_selected.shape}\")\n",
        "print(f\"Test set shape after feature selection: {X_test_selected.shape}\")\n",
        "\n",
        "# Initialize and train the KNeighborsRegressor with the optimal k value (from previous analysis)\n",
        "knn_regressor_selected_features = KNeighborsRegressor(n_neighbors=optimal_k_value)\n",
        "knn_regressor_selected_features.fit(X_train_selected, y_train)\n",
        "\n",
        "# Make predictions using the FEATURE-SELECTED test data\n",
        "y_pred_selected_features = knn_regressor_selected_features.predict(X_test_selected)\n",
        "\n",
        "# Evaluate the model\n",
        "mae_selected_features = mean_absolute_error(y_test, y_pred_selected_features)\n",
        "mse_selected_features = mean_squared_error(y_test, y_pred_selected_features)\n",
        "rmse_selected_features = np.sqrt(mse_selected_features)\n",
        "r2_selected_features = r2_score(y_test, y_pred_selected_features)\n",
        "\n",
        "print(f\"\\nMean Absolute Error (MAE) with selected features: {mae_selected_features:.4f}\")\n",
        "print(f\"Mean Squared Error (MSE) with selected features: {mse_selected_features:.4f}\")\n",
        "print(f\"Root Mean Squared Error (RMSE) with selected features: {rmse_selected_features:.4f}\")\n",
        "print(f\"R-squared (R2) Score with selected features: {r2_selected_features:.4f}\")"
      ],
      "metadata": {
        "colab": {
          "base_uri": "https://localhost:8080/"
        },
        "id": "qHl9-3SAtXCp",
        "outputId": "0b0a5637-62b6-4ba0-a8a4-1ca40b56996c"
      },
      "execution_count": 35,
      "outputs": [
        {
          "output_type": "stream",
          "name": "stdout",
          "text": [
            "\n",
            "Selected feature names:\n",
            "['Age', 'Avg_Daily_Usage_Hours', 'Sleep_Hours_Per_Night', 'Mental_Health_Score', 'Conflicts_Over_Social_Media', 'Adequate_Sleep', 'Academic_Level_Encoded', 'SM_Impact_Score', 'Lifestyle_Balance', 'Usage_Category_Medium', 'Usage_Category_Very High', 'Mental_Health_Risk_Medium', 'Mental_Health_Risk_Low']\n",
            "\n",
            "Training set shape after feature selection: (564, 13)\n",
            "Test set shape after feature selection: (141, 13)\n",
            "\n",
            "Mean Absolute Error (MAE) with selected features: 0.1543\n",
            "Mean Squared Error (MSE) with selected features: 0.0882\n",
            "Root Mean Squared Error (RMSE) with selected features: 0.2970\n",
            "R-squared (R2) Score with selected features: 0.9647\n"
          ]
        }
      ]
    },
    {
      "cell_type": "code",
      "source": [
        "print(\"\\nComparison of Model Performance:\")\n",
        "print(\"=\" * 50)\n",
        "print(f\"Metric         | All Features | Selected Features\")\n",
        "print(f\"MAE            | {mae_all_features:.4f}       | {mae_selected_features:.4f}\")\n",
        "print(f\"MSE            | {mse_all_features:.4f}       | {mse_selected_features:.4f}\")\n",
        "print(f\"RMSE           | {rmse_all_features:.4f}       | {rmse_selected_features:.4f}\")\n",
        "print(f\"R2 Score       | {r2_all_features:.4f}       | {r2_selected_features:.4f}\")\n",
        "\n",
        "# Determine the best scenario based on RMSE\n",
        "if r2_selected_features > r2_all_features:\n",
        "    best_scenario = \"Selected Features\"\n",
        "elif r2_all_features > r2_selected_features:\n",
        "    best_scenario = \"All Features\"\n",
        "else:\n",
        "    best_scenario = \"Both scenarios have equal RMSE\"\n",
        "\n",
        "print(f\"\\nThe Best Scenario based on RMSE is: {best_scenario}\")"
      ],
      "metadata": {
        "colab": {
          "base_uri": "https://localhost:8080/"
        },
        "id": "b0RbvUKeK4Ql",
        "outputId": "3d627f26-1184-4916-af89-135bcb5a7a72"
      },
      "execution_count": 42,
      "outputs": [
        {
          "output_type": "stream",
          "name": "stdout",
          "text": [
            "\n",
            "Comparison of Model Performance:\n",
            "==================================================\n",
            "Metric         | All Features | Selected Features\n",
            "MAE            | 0.1525       | 0.1543\n",
            "MSE            | 0.0949       | 0.0882\n",
            "RMSE           | 0.3080       | 0.2970\n",
            "R2 Score       | 0.9621       | 0.9647\n",
            "\n",
            "The Best Scenario based on RMSE is: Selected Features\n"
          ]
        }
      ]
    },
    {
      "cell_type": "markdown",
      "source": [
        "## Scenario 2: Normalization\n",
        "\n",
        "1. No Normalization\n",
        "2. Using StandardScaler"
      ],
      "metadata": {
        "id": "HeFYyM3NuErI"
      }
    },
    {
      "cell_type": "code",
      "source": [
        "# Scenario 2.1: No Normalization (Using the data after feature selection)\n",
        "print(\"\\nScenario 2.1: No Normalization\")\n",
        "print(\"=\" * 50)\n",
        "\n",
        "# Initialize and train KNeighborsRegressor with the optimal k value\n",
        "knn_regressor_no_norm = KNeighborsRegressor(n_neighbors=optimal_k_value)\n",
        "knn_regressor_no_norm.fit(X_train_selected, y_train)\n",
        "\n",
        "# Make predictions\n",
        "y_pred_no_norm = knn_regressor_no_norm.predict(X_test_selected)\n",
        "\n",
        "# Evaluate the model\n",
        "mae_no_norm = mean_absolute_error(y_test, y_pred_no_norm)\n",
        "mse_no_norm = mean_squared_error(y_test, y_pred_no_norm)\n",
        "rmse_no_norm = np.sqrt(mse_no_norm)\n",
        "r2_no_norm = r2_score(y_test, y_pred_no_norm)\n",
        "\n",
        "print(f\"Mean Absolute Error (MAE) without normalization: {mae_no_norm:.4f}\")\n",
        "print(f\"Mean Squared Error (MSE) without normalization: {mse_no_norm:.4f}\")\n",
        "print(f\"Root Mean Squared Error (RMSE) without normalization: {rmse_no_norm:.4f}\")\n",
        "print(f\"R-squared (R2) Score without normalization: {r2_no_norm:.4f}\")"
      ],
      "metadata": {
        "colab": {
          "base_uri": "https://localhost:8080/"
        },
        "id": "w_POoLVWuJKt",
        "outputId": "808acffb-3990-4f3d-d3f0-d80250f965cb"
      },
      "execution_count": 37,
      "outputs": [
        {
          "output_type": "stream",
          "name": "stdout",
          "text": [
            "\n",
            "Scenario 2.1: No Normalization\n",
            "==================================================\n",
            "Mean Absolute Error (MAE) without normalization: 0.1543\n",
            "Mean Squared Error (MSE) without normalization: 0.0882\n",
            "Root Mean Squared Error (RMSE) without normalization: 0.2970\n",
            "R-squared (R2) Score without normalization: 0.9647\n"
          ]
        }
      ]
    },
    {
      "cell_type": "code",
      "source": [
        "# Scenario 2.2: With Normalization using StandardScaler\n",
        "print(\"\\nScenario 2.2: With Normalization using StandardScaler\")\n",
        "print(\"=\" * 60)\n",
        "\n",
        "# Initialize StandardScaler\n",
        "scaler = StandardScaler()\n",
        "\n",
        "# Fit and transform the training data\n",
        "X_train_scaled = scaler.fit_transform(X_train_selected)\n",
        "\n",
        "# Transform the test data\n",
        "X_test_scaled = scaler.transform(X_test_selected)\n",
        "\n",
        "# Initialize and train KNeighborsRegressor with the optimal k value\n",
        "knn_regressor_scaled = KNeighborsRegressor(n_neighbors=optimal_k_value)\n",
        "knn_regressor_scaled.fit(X_train_scaled, y_train)\n",
        "\n",
        "# Make predictions\n",
        "y_pred_scaled = knn_regressor_scaled.predict(X_test_scaled)\n",
        "\n",
        "# Evaluate the model\n",
        "mae_scaled = mean_absolute_error(y_test, y_pred_scaled)\n",
        "mse_scaled = mean_squared_error(y_test, y_pred_scaled)\n",
        "rmse_scaled = np.sqrt(mse_scaled)\n",
        "r2_scaled = r2_score(y_test, y_pred_scaled)\n",
        "\n",
        "print(f\"Mean Absolute Error (MAE) with normalization: {mae_scaled:.4f}\")\n",
        "print(f\"Mean Squared Error (MSE) with normalization: {mse_scaled:.4f}\")\n",
        "print(f\"Root Mean Squared Error (RMSE) with normalization: {rmse_scaled:.4f}\")\n",
        "print(f\"R-squared (R2) Score with normalization: {r2_scaled:.4f}\")"
      ],
      "metadata": {
        "colab": {
          "base_uri": "https://localhost:8080/"
        },
        "id": "sbKCSMBUu99h",
        "outputId": "f974e036-19b8-451a-ab65-a6e4850dedd2"
      },
      "execution_count": 38,
      "outputs": [
        {
          "output_type": "stream",
          "name": "stdout",
          "text": [
            "\n",
            "Scenario 2.2: With Normalization using StandardScaler\n",
            "============================================================\n",
            "Mean Absolute Error (MAE) with normalization: 0.1348\n",
            "Mean Squared Error (MSE) with normalization: 0.0860\n",
            "Root Mean Squared Error (RMSE) with normalization: 0.2932\n",
            "R-squared (R2) Score with normalization: 0.9656\n"
          ]
        }
      ]
    },
    {
      "cell_type": "code",
      "source": [
        "# Determine the best scenario based on RMSE\n",
        "if r2_scaled > r2_no_norm:\n",
        "    best_normalization_scenario = \"With Normalization Using StandardScaler\"\n",
        "elif r2_no_norm > r2_scaled:\n",
        "    best_normalization_scenario = \"No Normalization\"\n",
        "else:\n",
        "    best_normalization_scenario = \"Both scenarios have equal RMSE\"\n",
        "\n",
        "print(f\"\\nThe Best Normalization Scenario based on RMSE is: {best_normalization_scenario}\")"
      ],
      "metadata": {
        "colab": {
          "base_uri": "https://localhost:8080/"
        },
        "id": "EscxZo0IvCRZ",
        "outputId": "12848c08-34b6-4741-a950-695a648bfd52"
      },
      "execution_count": 43,
      "outputs": [
        {
          "output_type": "stream",
          "name": "stdout",
          "text": [
            "\n",
            "The Best Normalization Scenario based on RMSE is: With Normalization Using StandardScaler\n"
          ]
        }
      ]
    },
    {
      "cell_type": "markdown",
      "source": [
        "## Scenario 3: Parameter Tuning"
      ],
      "metadata": {
        "id": "EVaRp4JGuJnI"
      }
    },
    {
      "cell_type": "code",
      "source": [
        "print(\"\\nScenario 3.1: Not-Tuned (using optimal_k_value found earlier)\")\n",
        "print(\"=\" * 60)\n",
        "\n",
        "# Train a model using the optimal_k_value found from the initial plot\n",
        "knn_regressor_not_tuned = KNeighborsRegressor(n_neighbors=optimal_k_value)\n",
        "knn_regressor_not_tuned.fit(X_train_scaled, y_train)\n",
        "\n",
        "# Make predictions on the scaled test set\n",
        "y_pred_not_tuned = knn_regressor_not_tuned.predict(X_test_scaled)\n",
        "\n",
        "# Evaluate the not-tuned model\n",
        "mae_not_tuned = mean_absolute_error(y_test, y_pred_not_tuned)\n",
        "mse_not_tuned = mean_squared_error(y_test, y_pred_not_tuned)\n",
        "rmse_not_tuned = np.sqrt(mse_not_tuned)\n",
        "r2_not_tuned = r2_score(y_test, y_pred_not_tuned)\n",
        "\n",
        "print(f\"Mean Absolute Error (MAE) not tuned: {mae_not_tuned:.4f}\")\n",
        "print(f\"Mean Squared Error (MSE) not tuned: {mse_not_tuned:.4f}\")\n",
        "print(f\"Root Mean Squared Error (RMSE) not tuned: {rmse_not_tuned:.4f}\")\n",
        "print(f\"R-squared (R2) Score not tuned: {r2_not_tuned:.4f}\")"
      ],
      "metadata": {
        "colab": {
          "base_uri": "https://localhost:8080/"
        },
        "id": "K0vhhna4znoK",
        "outputId": "d690867c-3d89-4113-a035-6431d09d7345"
      },
      "execution_count": 53,
      "outputs": [
        {
          "output_type": "stream",
          "name": "stdout",
          "text": [
            "\n",
            "Scenario 3.1: Not-Tuned (using optimal_k_value found earlier)\n",
            "============================================================\n",
            "Mean Absolute Error (MAE) not tuned: 0.1348\n",
            "Mean Squared Error (MSE) not tuned: 0.0860\n",
            "Root Mean Squared Error (RMSE) not tuned: 0.2932\n",
            "R-squared (R2) Score not tuned: 0.9656\n"
          ]
        }
      ]
    },
    {
      "cell_type": "code",
      "source": [
        "# Scenario 3.2: Tuned (using GridSearchCV)\n",
        "print(\"\\nScenario 3.2: Tuned (using GridSearchCV)\")\n",
        "print(\"=\" * 60)\n",
        "\n",
        "# Define the parameter grid for n_neighbors\n",
        "param_grid = {'n_neighbors': range(1, 40)}\n",
        "\n",
        "# Initialize the KNeighborsRegressor model\n",
        "knn = KNeighborsRegressor()\n",
        "\n",
        "# Initialize GridSearchCV\n",
        "grid_search = GridSearchCV(knn, param_grid, cv=5, scoring='neg_mean_squared_error')\n",
        "\n",
        "# Fit the GridSearchCV to the training data\n",
        "grid_search.fit(X_train_scaled, y_train)\n",
        "\n",
        "# Get the best parameters found by GridSearchCV\n",
        "best_n_neighbors = grid_search.best_params_['n_neighbors']\n",
        "print(f\"\\nBest n_neighbors found by GridSearchCV: {best_n_neighbors}\")\n",
        "\n",
        "# Get the best cross-validation score (negative MSE)\n",
        "best_cv_score = grid_search.best_score_\n",
        "print(f\"Best cross-validation negative MSE: {best_cv_score:.4f}\")\n",
        "print(f\"Corresponding cross-validation RMSE: {np.sqrt(-best_cv_score):.4f}\")\n",
        "\n",
        "# Train the final model with the best n_neighbors on the entire training data\n",
        "final_knn_model = KNeighborsRegressor(n_neighbors=best_n_neighbors)\n",
        "\n",
        "# Use the data from the best normalization scenario for final training\n",
        "final_knn_model.fit(X_train_scaled, y_train)\n",
        "\n",
        "# Make predictions on the independent test set (Corrected placement)\n",
        "y_pred_tuned = final_knn_model.predict(X_test_scaled)\n",
        "\n",
        "# Evaluate the model (Corrected placement)\n",
        "mae_tuned = mean_absolute_error(y_test, y_pred_tuned)\n",
        "mse_tuned = mean_squared_error(y_test, y_pred_tuned)\n",
        "rmse_tuned = np.sqrt(mse_tuned)\n",
        "r2_tuned = r2_score(y_test, y_pred_tuned)\n",
        "\n",
        "print(f\"Mean Absolute Error (MAE) with tuned parameters: {mae_tuned:.4f}\")\n",
        "print(f\"Mean Squared Error (MSE) with tuned parameters: {mse_tuned:.4f}\")\n",
        "print(f\"Root Mean Squared Error (RMSE) with tuned parameters: {rmse_tuned:.4f}\")\n",
        "print(f\"R-squared (R2) Score with tuned parameters: {r2_tuned:.4f}\")"
      ],
      "metadata": {
        "colab": {
          "base_uri": "https://localhost:8080/"
        },
        "id": "w1iwTsq9015x",
        "outputId": "b4c36c92-3ae4-47be-e785-99816f231cfd"
      },
      "execution_count": 52,
      "outputs": [
        {
          "output_type": "stream",
          "name": "stdout",
          "text": [
            "\n",
            "Scenario 3.2: Tuned (using GridSearchCV)\n",
            "============================================================\n",
            "\n",
            "Best n_neighbors found by GridSearchCV: 3\n",
            "Best cross-validation negative MSE: -0.0920\n",
            "Corresponding cross-validation RMSE: 0.3033\n",
            "Mean Absolute Error (MAE) with tuned parameters: 0.1253\n",
            "Mean Squared Error (MSE) with tuned parameters: 0.0843\n",
            "Root Mean Squared Error (RMSE) with tuned parameters: 0.2904\n",
            "R-squared (R2) Score with tuned parameters: 0.9663\n"
          ]
        }
      ]
    },
    {
      "cell_type": "code",
      "source": [
        "# Train the final model with the best n_neighbors on the entire training data\n",
        "final_knn_model = KNeighborsRegressor(n_neighbors=best_n_neighbors)\n",
        "\n",
        "# Use the data from the best normalization scenario for final training\n",
        "final_knn_model.fit(X_train_scaled, y_train)\n",
        "\n",
        "# Make predictions on the independent test set\n",
        "y_pred_tuned = final_knn_model.predict(X_test_scaled)\n",
        "\n",
        "print(f\"Mean Absolute Error (MAE) with tuned parameters: {mae_tuned:.4f}\")\n",
        "print(f\"Mean Squared Error (MSE) with tuned parameters: {mse_tuned:.4f}\")\n",
        "print(f\"Root Mean Squared Error (RMSE) with tuned parameters: {rmse_tuned:.4f}\")\n",
        "print(f\"R-squared (R2) Score with tuned parameters: {r2_tuned:.4f}\")"
      ],
      "metadata": {
        "colab": {
          "base_uri": "https://localhost:8080/"
        },
        "id": "tnxHTZYCviZ9",
        "outputId": "b7e8b75d-2592-43b0-def4-805f77850bbb"
      },
      "execution_count": 49,
      "outputs": [
        {
          "output_type": "stream",
          "name": "stdout",
          "text": [
            "Mean Absolute Error (MAE) with tuned parameters: 0.1253\n",
            "Mean Squared Error (MSE) with tuned parameters: 0.0843\n",
            "Root Mean Squared Error (RMSE) with tuned parameters: 0.2904\n",
            "R-squared (R2) Score with tuned parameters: 0.9663\n"
          ]
        }
      ]
    },
    {
      "cell_type": "code",
      "source": [
        "print(\"\\nComparison: Not Tuned vs. Tuned Models\")\n",
        "print(\"=\" * 50)\n",
        "print(f\"Metric         | Not Tuned    | Tuned\")\n",
        "print(f\"MAE            | {mae_not_tuned:.4f}      | {mae_tuned:.4f}\")\n",
        "print(f\"MSE            | {mse_not_tuned:.4f}      | {mse_tuned:.4f}\")\n",
        "print(f\"RMSE           | {rmse_not_tuned:.4f}      | {rmse_tuned:.4f}\")\n",
        "print(f\"R2 Score       | {r2_not_tuned:.4f}      | {r2_tuned:.4f}\")\n",
        "\n",
        "# Determine the best model based on RMSE\n",
        "if r2_tuned > r2_not_tuned:\n",
        "    best_model = \"Tuned Model\"\n",
        "elif r2_not_tuned > r2_tuned:\n",
        "    best_model = \"Not Tuned Model\"\n",
        "else:\n",
        "    best_model = \"Both models have equal RMSE\"\n",
        "\n",
        "print(f\"\\nThe Best Model based on RMSE is: {best_model}\")"
      ],
      "metadata": {
        "colab": {
          "base_uri": "https://localhost:8080/"
        },
        "id": "LTajWLZaz9Zn",
        "outputId": "cddc1670-1e97-415a-85e5-3a3555ebceee"
      },
      "execution_count": 55,
      "outputs": [
        {
          "output_type": "stream",
          "name": "stdout",
          "text": [
            "\n",
            "Comparison: Not Tuned vs. Tuned Models\n",
            "==================================================\n",
            "Metric         | Not Tuned    | Tuned\n",
            "MAE            | 0.1348      | 0.1253\n",
            "MSE            | 0.0860      | 0.0843\n",
            "RMSE           | 0.2932      | 0.2904\n",
            "R2 Score       | 0.9656      | 0.9663\n",
            "\n",
            "The Best Model based on RMSE is: Tuned Model\n"
          ]
        }
      ]
    },
    {
      "cell_type": "markdown",
      "source": [
        "# Summary"
      ],
      "metadata": {
        "id": "FaTIGMPQuSQQ"
      }
    },
    {
      "cell_type": "code",
      "source": [
        "print(\"\\nKNN Regression Analysis Summary\")\n",
        "print(\"=\" * 50)\n",
        "\n",
        "print(\"\\nData Loading and Initial Exploration\")\n",
        "print(\"- Dataset Used: Students_Social_Media_Addiction_Feature_Engineered.csv \")\n",
        "print(\"- Target variable: 'Addicted_Score'\")\n",
        "print(\"- Correlation analysis identified features most correlated with the target.\")\n",
        "\n",
        "print(\"\\nFeature Definition and Splitting\")\n",
        "print(\"- Features (X) and target (y) were defined. Categorical string columns were excluded.\")\n",
        "print(\"- The data was split into training (80%) and testing (20%) sets.\")\n",
        "\n",
        "print(\"\\nInitial K Value Selection\")\n",
        "print(\"- An initial search for the optimal 'k' (number of neighbors) was performed by training KNN models with k from 1 to 39.\")\n",
        "print(\"- The R-squared (R2) score was calculated for each 'k' on the test set.\")\n",
        "print(f\"- Based on the plot and maximum R2 score, the initial optimal K value was found to be: {optimal_k_value}\")\n",
        "\n",
        "print(\"\\nScenario Analysis: Improving Model Performance\")\n",
        "\n",
        "print(\"\\nFeature Selection Analysis\")\n",
        "print(\"- Scenario 1.1: Using All Features: The KNN model was trained and evaluated using all available numerical features.\")\n",
        "print(f\"  - MAE: {mae_all_features:.4f}, MSE: {mse_all_features:.4f}, RMSE: {rmse_all_features:.4f}, R2: {r2_all_features:.4f}\")\n",
        "print(\"- Scenario 1.2: Using SelectKBest:*Feature selection using SelectKBest with `f_regression` was applied.\")\n",
        "print(\"- A search was conducted to find the optimal number of features (k) to select based on maximizing the R2 score.\")\n",
        "print(f\"- The optimal number of features found was: {optimal_num_features}\")\n",
        "print(f\"- The selected feature names are: {selected_feature_names.tolist()}\")\n",
        "print(\"- The KNN model was trained and evaluated using only these selected features.\")\n",
        "print(f\"  - MAE: {mae_selected_features:.4f}, MSE: {mse_selected_features:.4f}, RMSE: {rmse_selected_features:.4f}, R2: {r2_selected_features:.4f}\")\n",
        "print(f\"- Best Feature Selection Strategy: Based on the comparison of R2 scores, the best scenario was: {best_scenario}.\")\n",
        "\n",
        "mae_fs_improvement_percent = ((mae_selected_features - mae_all_features) / mae_all_features) * 100\n",
        "mse_fs_improvement_percent = ((mse_selected_features - mae_all_features) / mae_all_features) * 100\n",
        "rmse_fs_improvement_percent = ((rmse_selected_features - rmse_all_features) / rmse_all_features) * 100\n",
        "r2_fs_improvement_percent = ((r2_selected_features - r2_all_features) / r2_all_features) * 100\n",
        "\n",
        "print(\"  - Using selected features led to the following changes:\")\n",
        "print(f\"    - MAE changed from {mae_all_features:.4f} to {mae_selected_features:.4f} ({mae_fs_improvement_percent:.2f}%)\")\n",
        "print(f\"    - MSE changed from {mse_all_features:.4f} to {mse_selected_features:.4f} ({mse_fs_improvement_percent:.2f}%)\")\n",
        "print(f\"    - RMSE changed from {rmse_all_features:.4f} to {rmse_selected_features:.4f} ({rmse_fs_improvement_percent:.2f}%)\")\n",
        "print(f\"    - R2 changed from {r2_all_features:.4f} to {r2_selected_features:.4f} ({r2_fs_improvement_percent:.2f}%)\")\n",
        "\n",
        "\n",
        "print(\"\\nNormalization Analysis (Applied to the best feature set)\")\n",
        "print(\"- Scenario 2.1: No Normalization: The KNN model was trained and evaluated on the selected features without scaling.\")\n",
        "print(f\"  - MAE: {mae_no_norm:.4f}, MSE: {mse_no_norm:.4f}, RMSE: {rmse_no_norm:.4f}, R2: {r2_no_norm:.4f}\")\n",
        "print(\"- Scenario 2.2: With StandardScaler: The selected features were scaled using StandardScaler.\")\n",
        "print(\"- The KNN model was trained and evaluated on the scaled selected features.\")\n",
        "print(f\"  - MAE: {mae_scaled:.4f}, MSE: {mse_scaled:.4f}, RMSE: {rmse_scaled:.4f}, R2: {r2_scaled:.4f}\")\n",
        "print(f\"- Best Normalization Strategy: Based on the comparison of R2 scores, the best scenario was: {best_normalization_scenario}.\")\n",
        "\n",
        "mae_norm_improvement_percent = ((mae_scaled - mae_no_norm) / mae_no_norm) * 100\n",
        "mse_norm_improvement_percent = ((mse_scaled - mse_no_norm) / mse_no_norm) * 100\n",
        "rmse_norm_improvement_percent = ((rmse_scaled - rmse_no_norm) / rmse_no_norm) * 100\n",
        "r2_norm_improvement_percent = ((r2_scaled - r2_no_norm) / r2_no_norm) * 100\n",
        "\n",
        "\n",
        "print(\"  - Applying StandardScaler led to the following changes:\")\n",
        "print(f\"    - MAE changed from {mae_no_norm:.4f} to {mae_scaled:.4f} ({mae_norm_improvement_percent:.2f}%)\")\n",
        "print(f\"    - MSE changed from {mse_no_norm:.4f} to {mse_scaled:.4f} ({mse_norm_improvement_percent:.2f}%)\")\n",
        "print(f\"    - RMSE changed from {rmse_no_norm:.4f} to {rmse_scaled:.4f} ({rmse_norm_improvement_percent:.2f}%)\")\n",
        "print(f\"    - R2 changed from {r2_no_norm:.4f} to {r2_scaled:.4f} ({r2_norm_improvement_percent:.2f}%)\")\n",
        "\n",
        "\n",
        "print(\"\\nParameter Tuning Analysis (Applied to the best feature set and normalization)\")\n",
        "print(\"- Scenario 3.1: Not Tuned: The KNN model was trained using the initially found optimal `n_neighbors` ({optimal_k_value}) on the scaled selected features.\")\n",
        "print(f\"  - MAE: {mae_not_tuned:.4f}, MSE: {mse_not_tuned:.4f}, RMSE: {rmse_not_tuned:.4f}, R2: {r2_not_tuned:.4f}\")\n",
        "print(\"- Scenario 3.2: Tuned (GridSearchCV): GridSearchCV was used to find the best `n_neighbors` within the range 1 to 39, using 5-fold cross-validation and minimizing negative MSE.\")\n",
        "print(f\"- The best `n_neighbors` found by GridSearchCV was: {best_n_neighbors}\")\n",
        "print(f\"- The corresponding cross-validation RMSE for the best `n_neighbors` was: {np.sqrt(-best_cv_score):.4f}\")\n",
        "print(\"- A final KNN model was trained using the best `n_neighbors` ({best_n_neighbors}) on the entire scaled selected training data and evaluated on the test set.\")\n",
        "print(f\"  - MAE: {mae_tuned:.4f}, MSE: {mse_tuned:.4f}, RMSE: {rmse_tuned:.4f}, R2: {r2_tuned:.4f}\")\n",
        "print(f\"- Best Tuning Strategy: Based on the comparison of R2 scores on the test set, the best model was: {best_model}.\")\n",
        "\n",
        "mae_tuned_improvement_percent = ((mae_tuned - mae_not_tuned) / mae_not_tuned) * 100\n",
        "mse_tuned_improvement_percent = ((mse_tuned - mse_not_tuned) / mse_not_tuned) * 100\n",
        "rmse_tuned_improvement_percent = ((rmse_tuned - rmse_not_tuned) / rmse_not_tuned) * 100\n",
        "r2_tuned_improvement_percent = ((r2_tuned - r2_not_tuned) / r2_not_tuned) * 100\n",
        "\n",
        "\n",
        "print(\"  - Tuning the `n_neighbors` parameter using GridSearchCV led to the following changes:\")\n",
        "print(f\"    - MAE changed from {mae_not_tuned:.4f} to {mae_tuned:.4f} ({mae_tuned_improvement_percent:.2f}%)\")\n",
        "print(f\"    - MSE changed from {mse_not_tuned:.4f} to {mse_tuned:.4f} ({mse_tuned_improvement_percent:.2f}%)\")\n",
        "print(f\"    - RMSE changed from {rmse_not_tuned:.4f} to {rmse_tuned:.4f} ({rmse_tuned_improvement_percent:.2f}%)\")\n",
        "print(f\"    - R2 changed from {r2_not_tuned:.4f} to {r2_tuned:.4f} ({r2_tuned_improvement_percent:.2f}%)\")\n",
        "\n",
        "print(\"\\nOverall Conclusion\")\n",
        "print(\"- The KNN Regression analysis involved steps for feature selection, normalization, and parameter tuning.\")\n",
        "print(f\"- The best performing approach combined {best_scenario.lower()}, {best_normalization_scenario.lower()}, and {best_model.lower()}.\")\n",
        "print(\"- The final tuned model, using scaled selected features and the best n_neighbors, achieved the following performance on the test set:\")\n",
        "\n",
        "overall_mae_improvement_percent = ((mae_tuned - mae_all_features) / mae_all_features) * 100\n",
        "overall_mse_improvement_percent = ((mse_tuned - mae_all_features) / mae_all_features) * 100\n",
        "overall_rmse_improvement_percent = ((rmse_tuned - rmse_all_features) / rmse_all_features) * 100\n",
        "overall_r2_improvement_percent = ((r2_tuned - r2_all_features) / r2_all_features) * 100\n",
        "\n",
        "print(f\"  - Mean Absolute Error (MAE): {mae_tuned:.4f} ({overall_mae_improvement_percent:.2f}%)\")\n",
        "print(f\"  - Mean Squared Error (MSE): {mse_tuned:.4f} ({overall_mse_improvement_percent:.2f}%)\")\n",
        "print(f\"  - Root Mean Squared Error (RMSE): {rmse_tuned:.4f} ({overall_rmse_improvement_percent:.2f}%)\")\n",
        "print(f\"  - R-squared (R2) Score: {r2_tuned:.4f} ({overall_r2_improvement_percent:.2f}%)\")\n",
        "\n",
        "\n",
        "print(\"- The analysis demonstrated the impact of each step on the model's performance, leading to a more accurate prediction of 'Addicted_Score'.\")\n",
        "print(\"=\" * 138)\n",
        "print(\"End of Summary\")"
      ],
      "metadata": {
        "colab": {
          "base_uri": "https://localhost:8080/"
        },
        "id": "1Ar7gkfC1daM",
        "outputId": "6b2e2fcc-a84e-4a54-b002-76f6a76573d4"
      },
      "execution_count": 78,
      "outputs": [
        {
          "output_type": "stream",
          "name": "stdout",
          "text": [
            "\n",
            "KNN Regression Analysis Summary\n",
            "==================================================\n",
            "\n",
            "Data Loading and Initial Exploration\n",
            "- Dataset Used: Students_Social_Media_Addiction_Feature_Engineered.csv \n",
            "- Target variable: 'Addicted_Score'\n",
            "- Correlation analysis identified features most correlated with the target.\n",
            "\n",
            "Feature Definition and Splitting\n",
            "- Features (X) and target (y) were defined. Categorical string columns were excluded.\n",
            "- The data was split into training (80%) and testing (20%) sets.\n",
            "\n",
            "Initial K Value Selection\n",
            "- An initial search for the optimal 'k' (number of neighbors) was performed by training KNN models with k from 1 to 39.\n",
            "- The R-squared (R2) score was calculated for each 'k' on the test set.\n",
            "- Based on the plot and maximum R2 score, the initial optimal K value was found to be: 4\n",
            "\n",
            "Scenario Analysis: Improving Model Performance\n",
            "\n",
            "Feature Selection Analysis\n",
            "- Scenario 1.1: Using All Features: The KNN model was trained and evaluated using all available numerical features.\n",
            "  - MAE: 0.1525, MSE: 0.0949, RMSE: 0.3080, R2: 0.9621\n",
            "- Scenario 1.2: Using SelectKBest:*Feature selection using SelectKBest with `f_regression` was applied.\n",
            "- A search was conducted to find the optimal number of features (k) to select based on maximizing the R2 score.\n",
            "- The optimal number of features found was: 13\n",
            "- The selected feature names are: ['Age', 'Avg_Daily_Usage_Hours', 'Sleep_Hours_Per_Night', 'Mental_Health_Score', 'Conflicts_Over_Social_Media', 'Adequate_Sleep', 'Academic_Level_Encoded', 'SM_Impact_Score', 'Lifestyle_Balance', 'Usage_Category_Medium', 'Usage_Category_Very High', 'Mental_Health_Risk_Medium', 'Mental_Health_Risk_Low']\n",
            "- The KNN model was trained and evaluated using only these selected features.\n",
            "  - MAE: 0.1543, MSE: 0.0882, RMSE: 0.2970, R2: 0.9647\n",
            "- Best Feature Selection Strategy: Based on the comparison of R2 scores, the best scenario was: Selected Features.\n",
            "  - Using selected features led to the following changes:\n",
            "    - MAE changed from 0.1525 to 0.1543 (1.16%)\n",
            "    - MSE changed from 0.0949 to 0.0882 (-42.15%)\n",
            "    - RMSE changed from 0.3080 to 0.2970 (-3.57%)\n",
            "    - R2 changed from 0.9621 to 0.9647 (0.28%)\n",
            "\n",
            "Normalization Analysis (Applied to the best feature set)\n",
            "- Scenario 2.1: No Normalization: The KNN model was trained and evaluated on the selected features without scaling.\n",
            "  - MAE: 0.1543, MSE: 0.0882, RMSE: 0.2970, R2: 0.9647\n",
            "- Scenario 2.2: With StandardScaler: The selected features were scaled using StandardScaler.\n",
            "- The KNN model was trained and evaluated on the scaled selected features.\n",
            "  - MAE: 0.1348, MSE: 0.0860, RMSE: 0.2932, R2: 0.9656\n",
            "- Best Normalization Strategy: Based on the comparison of R2 scores, the best scenario was: With Normalization Using StandardScaler.\n",
            "  - Applying StandardScaler led to the following changes:\n",
            "    - MAE changed from 0.1543 to 0.1348 (-12.64%)\n",
            "    - MSE changed from 0.0882 to 0.0860 (-2.51%)\n",
            "    - RMSE changed from 0.2970 to 0.2932 (-1.26%)\n",
            "    - R2 changed from 0.9647 to 0.9656 (0.09%)\n",
            "\n",
            "Parameter Tuning Analysis (Applied to the best feature set and normalization)\n",
            "- Scenario 3.1: Not Tuned: The KNN model was trained using the initially found optimal `n_neighbors` ({optimal_k_value}) on the scaled selected features.\n",
            "  - MAE: 0.1348, MSE: 0.0860, RMSE: 0.2932, R2: 0.9656\n",
            "- Scenario 3.2: Tuned (GridSearchCV): GridSearchCV was used to find the best `n_neighbors` within the range 1 to 39, using 5-fold cross-validation and minimizing negative MSE.\n",
            "- The best `n_neighbors` found by GridSearchCV was: 3\n",
            "- The corresponding cross-validation RMSE for the best `n_neighbors` was: 0.3033\n",
            "- A final KNN model was trained using the best `n_neighbors` ({best_n_neighbors}) on the entire scaled selected training data and evaluated on the test set.\n",
            "  - MAE: 0.1253, MSE: 0.0843, RMSE: 0.2904, R2: 0.9663\n",
            "- Best Tuning Strategy: Based on the comparison of R2 scores on the test set, the best model was: Tuned Model.\n",
            "  - Tuning the `n_neighbors` parameter using GridSearchCV led to the following changes:\n",
            "    - MAE changed from 0.1348 to 0.1253 (-7.02%)\n",
            "    - MSE changed from 0.0860 to 0.0843 (-1.95%)\n",
            "    - RMSE changed from 0.2932 to 0.2904 (-0.98%)\n",
            "    - R2 changed from 0.9656 to 0.9663 (0.07%)\n",
            "\n",
            "Overall Conclusion\n",
            "- The KNN Regression analysis involved steps for feature selection, normalization, and parameter tuning.\n",
            "- The best performing approach combined selected features, with normalization using standardscaler, and tuned model.\n",
            "- The final tuned model, using scaled selected features and the best n_neighbors, achieved the following performance on the test set:\n",
            "  - Mean Absolute Error (MAE): 0.1253 (-17.83%)\n",
            "  - Mean Squared Error (MSE): 0.0843 (-44.70%)\n",
            "  - Root Mean Squared Error (RMSE): 0.2904 (-5.72%)\n",
            "  - R-squared (R2) Score: 0.9663 (0.44%)\n",
            "- The analysis demonstrated the impact of each step on the model's performance, leading to a more accurate prediction of 'Addicted_Score'.\n",
            "==========================================================================================================================================\n",
            "End of Summary\n"
          ]
        }
      ]
    }
  ]
}